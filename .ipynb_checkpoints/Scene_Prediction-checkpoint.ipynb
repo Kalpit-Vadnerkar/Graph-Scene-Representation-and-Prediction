{
 "cells": [
  {
   "cell_type": "code",
   "execution_count": null,
   "id": "dcf84159-1e2f-45ad-b9b9-3b31ecf1efb5",
   "metadata": {},
   "outputs": [
    {
     "name": "stdout",
     "output_type": "stream",
     "text": [
      "Loaded 5661 sequences\n",
      "Train set size: 4528\n",
      "Test set size: 1133\n"
     ]
    },
    {
     "name": "stderr",
     "output_type": "stream",
     "text": [
      "Training: 100%|██████████| 71/71 [00:11<00:00,  6.29it/s]\n"
     ]
    },
    {
     "name": "stdout",
     "output_type": "stream",
     "text": [
      "Epoch 1/100, Train Loss: 1.2594, Val Loss: 1.0288\n"
     ]
    },
    {
     "name": "stderr",
     "output_type": "stream",
     "text": [
      "Training:   6%|▌         | 4/71 [00:00<00:10,  6.39it/s]"
     ]
    }
   ],
   "source": [
    "import torch\n",
    "from torch.utils.data import DataLoader, random_split\n",
    "from TrajectoryDataset import TrajectoryDataset\n",
    "from DLModels import GraphTrajectoryLSTM\n",
    "from Trainer import Trainer\n",
    "from visualizer import visualize_predictions\n",
    "import pickle\n",
    "import os\n",
    "\n",
    "def load_sequences(folder_path):\n",
    "    all_sequences = []\n",
    "    for filename in os.listdir(folder_path):\n",
    "        if filename.endswith('.pkl'):\n",
    "            file_path = os.path.join(folder_path, filename)\n",
    "            with open(file_path, 'rb') as f:\n",
    "                sequences = pickle.load(f)\n",
    "                all_sequences.extend(sequences)\n",
    "    print(f\"Loaded {len(all_sequences)} sequences\")\n",
    "    return all_sequences\n",
    "\n",
    "def train():\n",
    "    # Hyperparameters\n",
    "    input_sizes = {\n",
    "        'node_features': 4,\n",
    "        'position': 2,\n",
    "        'velocity': 2,\n",
    "        'steering': 1,\n",
    "        'object_in_path': 1,\n",
    "        'traffic_light_detected': 1\n",
    "    }\n",
    "    hidden_size = 128\n",
    "    num_layers = 2\n",
    "    input_seq_len = 3  # past trajectory length\n",
    "    output_seq_len = 3  # future prediction length\n",
    "    batch_size = 128\n",
    "    num_epochs = 100\n",
    "    learning_rate = 0.001\n",
    "    \n",
    "    # Data loading\n",
    "    data_folder = \"Dataset/Sequence_Dataset\"\n",
    "    dataset = TrajectoryDataset(data_folder)\n",
    "    \n",
    "    # Split the dataset\n",
    "    train_size = int(0.8 * len(dataset))\n",
    "    test_size = len(dataset) - train_size\n",
    "    train_dataset, test_dataset = random_split(dataset, [train_size, test_size])\n",
    "    \n",
    "    print(f\"Train set size: {len(train_dataset)}\")\n",
    "    print(f\"Test set size: {len(test_dataset)}\")\n",
    "    \n",
    "    train_loader = DataLoader(train_dataset, batch_size=batch_size, shuffle=True, collate_fn=collate_fn)\n",
    "    test_loader = DataLoader(test_dataset, batch_size=batch_size, collate_fn=collate_fn)\n",
    "    \n",
    "    # Model initialization\n",
    "    model = GraphTrajectoryLSTM(input_sizes, hidden_size, num_layers, input_seq_len, output_seq_len)\n",
    "    \n",
    "    # Training\n",
    "    device = torch.device(\"cuda\" if torch.cuda.is_available() else \"cpu\")\n",
    "    trainer = Trainer(model, train_loader, test_loader, learning_rate, device)\n",
    "    trained_model = trainer.train(num_epochs)\n",
    "    \n",
    "    # Save the trained model\n",
    "    torch.save(trained_model.state_dict(), \"graph_trajectory_model.pth\")\n",
    "    \n",
    "    # Evaluate on test set\n",
    "    test_loss = trainer.validate()\n",
    "    print(f\"Test Loss: {test_loss:.4f}\")\n",
    "\n",
    "    # Visualization\n",
    "    all_sequences = load_sequences(data_folder)\n",
    "    visualize_predictions(trained_model, dataset, device, all_sequences)\n",
    "\n",
    "def collate_fn(batch):\n",
    "    past_batch = {k: torch.stack([item[0][k] for item in batch]) for k in batch[0][0].keys()}\n",
    "    future_batch = {k: torch.stack([item[1][k] for item in batch]) for k in batch[0][1].keys()}\n",
    "    graph_batch = {\n",
    "        'node_features': torch.stack([item[2]['node_features'] for item in batch]),\n",
    "        'adj_matrix': torch.stack([item[2]['adj_matrix'] for item in batch])\n",
    "    }\n",
    "    return past_batch, future_batch, graph_batch\n",
    "\n",
    "train()"
   ]
  }
 ],
 "metadata": {
  "kernelspec": {
   "display_name": "Python 3 (ipykernel)",
   "language": "python",
   "name": "python3"
  },
  "language_info": {
   "codemirror_mode": {
    "name": "ipython",
    "version": 3
   },
   "file_extension": ".py",
   "mimetype": "text/x-python",
   "name": "python",
   "nbconvert_exporter": "python",
   "pygments_lexer": "ipython3",
   "version": "3.12.4"
  }
 },
 "nbformat": 4,
 "nbformat_minor": 5
}
