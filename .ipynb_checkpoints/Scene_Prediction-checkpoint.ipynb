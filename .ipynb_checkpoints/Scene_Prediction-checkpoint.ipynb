{
 "cells": [
  {
   "cell_type": "code",
   "execution_count": 1,
   "id": "dcf84159-1e2f-45ad-b9b9-3b31ecf1efb5",
   "metadata": {},
   "outputs": [
    {
     "name": "stdout",
     "output_type": "stream",
     "text": [
      "Loaded 5661 sequences\n",
      "Train set size: 4528\n",
      "Test set size: 1133\n"
     ]
    },
    {
     "name": "stderr",
     "output_type": "stream",
     "text": [
      "Training: 100%|██████████| 36/36 [00:10<00:00,  3.35it/s]\n"
     ]
    },
    {
     "name": "stdout",
     "output_type": "stream",
     "text": [
      "\n",
      "Epoch 1/10\n",
      "Train Loss: 11.3339, Val Loss: 2.4314\n",
      "Train Individual Losses:\n",
      "  position: 3.5006\n",
      "  velocity: 2.7747\n",
      "  steering: 1.4292\n",
      "  object_in_path: 1.9113\n",
      "  traffic_light_detected: 1.7181\n",
      "Val Individual Losses:\n",
      "  position: -0.0591\n",
      "  velocity: -0.5148\n",
      "  steering: -0.4210\n",
      "  object_in_path: 1.8193\n",
      "  traffic_light_detected: 1.6070\n"
     ]
    },
    {
     "name": "stderr",
     "output_type": "stream",
     "text": [
      "Training: 100%|██████████| 36/36 [00:10<00:00,  3.58it/s]\n"
     ]
    },
    {
     "name": "stdout",
     "output_type": "stream",
     "text": [
      "\n",
      "Epoch 2/10\n",
      "Train Loss: 1.1997, Val Loss: -3.8597\n",
      "Train Individual Losses:\n",
      "  position: -0.8782\n",
      "  velocity: -0.7389\n",
      "  steering: -0.6500\n",
      "  object_in_path: 1.8692\n",
      "  traffic_light_detected: 1.5977\n",
      "Val Individual Losses:\n",
      "  position: -2.8659\n",
      "  velocity: -2.7691\n",
      "  steering: -1.6451\n",
      "  object_in_path: 1.8149\n",
      "  traffic_light_detected: 1.6056\n"
     ]
    },
    {
     "name": "stderr",
     "output_type": "stream",
     "text": [
      "Training: 100%|██████████| 36/36 [00:10<00:00,  3.58it/s]\n"
     ]
    },
    {
     "name": "stdout",
     "output_type": "stream",
     "text": [
      "\n",
      "Epoch 3/10\n",
      "Train Loss: -2.8117, Val Loss: -6.3703\n",
      "Train Individual Losses:\n",
      "  position: -2.0671\n",
      "  velocity: -2.9188\n",
      "  steering: -1.2793\n",
      "  object_in_path: 1.8649\n",
      "  traffic_light_detected: 1.5887\n",
      "Val Individual Losses:\n",
      "  position: -3.2341\n",
      "  velocity: -4.7323\n",
      "  steering: -1.8280\n",
      "  object_in_path: 1.8151\n",
      "  traffic_light_detected: 1.6091\n"
     ]
    },
    {
     "name": "stderr",
     "output_type": "stream",
     "text": [
      "Training: 100%|██████████| 36/36 [00:10<00:00,  3.58it/s]\n"
     ]
    },
    {
     "name": "stdout",
     "output_type": "stream",
     "text": [
      "\n",
      "Epoch 4/10\n",
      "Train Loss: -6.2035, Val Loss: -8.6062\n",
      "Train Individual Losses:\n",
      "  position: -2.5883\n",
      "  velocity: -5.5216\n",
      "  steering: -1.5461\n",
      "  object_in_path: 1.8644\n",
      "  traffic_light_detected: 1.5881\n",
      "Val Individual Losses:\n",
      "  position: -3.3309\n",
      "  velocity: -6.8678\n",
      "  steering: -1.8225\n",
      "  object_in_path: 1.8144\n",
      "  traffic_light_detected: 1.6007\n"
     ]
    },
    {
     "name": "stderr",
     "output_type": "stream",
     "text": [
      "Training: 100%|██████████| 36/36 [00:10<00:00,  3.39it/s]\n"
     ]
    },
    {
     "name": "stdout",
     "output_type": "stream",
     "text": [
      "\n",
      "Epoch 5/10\n",
      "Train Loss: -8.2861, Val Loss: -9.8835\n",
      "Train Individual Losses:\n",
      "  position: -2.8020\n",
      "  velocity: -7.2606\n",
      "  steering: -1.6751\n",
      "  object_in_path: 1.8648\n",
      "  traffic_light_detected: 1.5868\n",
      "Val Individual Losses:\n",
      "  position: -3.4468\n",
      "  velocity: -7.9539\n",
      "  steering: -1.8939\n",
      "  object_in_path: 1.8153\n",
      "  traffic_light_detected: 1.5959\n"
     ]
    },
    {
     "name": "stderr",
     "output_type": "stream",
     "text": [
      "Training: 100%|██████████| 36/36 [00:09<00:00,  3.62it/s]\n"
     ]
    },
    {
     "name": "stdout",
     "output_type": "stream",
     "text": [
      "\n",
      "Epoch 6/10\n",
      "Train Loss: -9.2368, Val Loss: -10.5463\n",
      "Train Individual Losses:\n",
      "  position: -2.8891\n",
      "  velocity: -8.0604\n",
      "  steering: -1.7316\n",
      "  object_in_path: 1.8679\n",
      "  traffic_light_detected: 1.5763\n",
      "Val Individual Losses:\n",
      "  position: -3.4633\n",
      "  velocity: -8.5562\n",
      "  steering: -1.9356\n",
      "  object_in_path: 1.8166\n",
      "  traffic_light_detected: 1.5923\n"
     ]
    },
    {
     "name": "stderr",
     "output_type": "stream",
     "text": [
      "Training: 100%|██████████| 36/36 [00:10<00:00,  3.60it/s]\n"
     ]
    },
    {
     "name": "stdout",
     "output_type": "stream",
     "text": [
      "\n",
      "Epoch 7/10\n",
      "Train Loss: -9.8154, Val Loss: -10.8916\n",
      "Train Individual Losses:\n",
      "  position: -2.9474\n",
      "  velocity: -8.5394\n",
      "  steering: -1.7685\n",
      "  object_in_path: 1.8625\n",
      "  traffic_light_detected: 1.5774\n",
      "Val Individual Losses:\n",
      "  position: -3.4523\n",
      "  velocity: -8.9004\n",
      "  steering: -1.9388\n",
      "  object_in_path: 1.8149\n",
      "  traffic_light_detected: 1.5850\n"
     ]
    },
    {
     "name": "stderr",
     "output_type": "stream",
     "text": [
      "Training: 100%|██████████| 36/36 [00:10<00:00,  3.58it/s]\n"
     ]
    },
    {
     "name": "stdout",
     "output_type": "stream",
     "text": [
      "\n",
      "Epoch 8/10\n",
      "Train Loss: -9.9591, Val Loss: -10.8849\n",
      "Train Individual Losses:\n",
      "  position: -2.9476\n",
      "  velocity: -8.6864\n",
      "  steering: -1.7643\n",
      "  object_in_path: 1.8655\n",
      "  traffic_light_detected: 1.5737\n",
      "Val Individual Losses:\n",
      "  position: -3.4520\n",
      "  velocity: -8.8740\n",
      "  steering: -1.9541\n",
      "  object_in_path: 1.8150\n",
      "  traffic_light_detected: 1.5802\n"
     ]
    },
    {
     "name": "stderr",
     "output_type": "stream",
     "text": [
      "Training: 100%|██████████| 36/36 [00:09<00:00,  3.63it/s]\n"
     ]
    },
    {
     "name": "stdout",
     "output_type": "stream",
     "text": [
      "\n",
      "Epoch 9/10\n",
      "Train Loss: -10.3080, Val Loss: -11.5126\n",
      "Train Individual Losses:\n",
      "  position: -2.9337\n",
      "  velocity: -9.0372\n",
      "  steering: -1.7613\n",
      "  object_in_path: 1.8648\n",
      "  traffic_light_detected: 1.5594\n",
      "Val Individual Losses:\n",
      "  position: -3.4536\n",
      "  velocity: -9.5417\n",
      "  steering: -1.9128\n",
      "  object_in_path: 1.8148\n",
      "  traffic_light_detected: 1.5807\n"
     ]
    },
    {
     "name": "stderr",
     "output_type": "stream",
     "text": [
      "Training: 100%|██████████| 36/36 [00:09<00:00,  3.62it/s]\n"
     ]
    },
    {
     "name": "stdout",
     "output_type": "stream",
     "text": [
      "\n",
      "Epoch 10/10\n",
      "Train Loss: -10.0399, Val Loss: -7.7596\n",
      "Train Individual Losses:\n",
      "  position: -2.9834\n",
      "  velocity: -8.7205\n",
      "  steering: -1.7619\n",
      "  object_in_path: 1.8716\n",
      "  traffic_light_detected: 1.5543\n",
      "Val Individual Losses:\n",
      "  position: -3.2724\n",
      "  velocity: -5.9739\n",
      "  steering: -1.8840\n",
      "  object_in_path: 1.8158\n",
      "  traffic_light_detected: 1.5549\n"
     ]
    },
    {
     "ename": "TypeError",
     "evalue": "unsupported format string passed to tuple.__format__",
     "output_type": "error",
     "traceback": [
      "\u001b[0;31m---------------------------------------------------------------------------\u001b[0m",
      "\u001b[0;31mTypeError\u001b[0m                                 Traceback (most recent call last)",
      "Cell \u001b[0;32mIn[1], line 82\u001b[0m\n\u001b[1;32m     76\u001b[0m     graph_batch \u001b[38;5;241m=\u001b[39m {\n\u001b[1;32m     77\u001b[0m         \u001b[38;5;124m'\u001b[39m\u001b[38;5;124mnode_features\u001b[39m\u001b[38;5;124m'\u001b[39m: torch\u001b[38;5;241m.\u001b[39mstack([item[\u001b[38;5;241m2\u001b[39m][\u001b[38;5;124m'\u001b[39m\u001b[38;5;124mnode_features\u001b[39m\u001b[38;5;124m'\u001b[39m] \u001b[38;5;28;01mfor\u001b[39;00m item \u001b[38;5;129;01min\u001b[39;00m batch]),\n\u001b[1;32m     78\u001b[0m         \u001b[38;5;124m'\u001b[39m\u001b[38;5;124madj_matrix\u001b[39m\u001b[38;5;124m'\u001b[39m: torch\u001b[38;5;241m.\u001b[39mstack([item[\u001b[38;5;241m2\u001b[39m][\u001b[38;5;124m'\u001b[39m\u001b[38;5;124madj_matrix\u001b[39m\u001b[38;5;124m'\u001b[39m] \u001b[38;5;28;01mfor\u001b[39;00m item \u001b[38;5;129;01min\u001b[39;00m batch])\n\u001b[1;32m     79\u001b[0m     }\n\u001b[1;32m     80\u001b[0m     \u001b[38;5;28;01mreturn\u001b[39;00m past_batch, future_batch, graph_batch\n\u001b[0;32m---> 82\u001b[0m train()\n",
      "Cell \u001b[0;32mIn[1], line 67\u001b[0m, in \u001b[0;36mtrain\u001b[0;34m()\u001b[0m\n\u001b[1;32m     65\u001b[0m \u001b[38;5;66;03m# Evaluate on test set\u001b[39;00m\n\u001b[1;32m     66\u001b[0m test_loss \u001b[38;5;241m=\u001b[39m trainer\u001b[38;5;241m.\u001b[39mvalidate()\n\u001b[0;32m---> 67\u001b[0m \u001b[38;5;28mprint\u001b[39m(\u001b[38;5;124mf\u001b[39m\u001b[38;5;124m\"\u001b[39m\u001b[38;5;124mTest Loss: \u001b[39m\u001b[38;5;132;01m{\u001b[39;00mtest_loss\u001b[38;5;132;01m:\u001b[39;00m\u001b[38;5;124m.4f\u001b[39m\u001b[38;5;132;01m}\u001b[39;00m\u001b[38;5;124m\"\u001b[39m)\n\u001b[1;32m     69\u001b[0m \u001b[38;5;66;03m# Visualization\u001b[39;00m\n\u001b[1;32m     70\u001b[0m all_sequences \u001b[38;5;241m=\u001b[39m load_sequences(data_folder)\n",
      "\u001b[0;31mTypeError\u001b[0m: unsupported format string passed to tuple.__format__"
     ]
    }
   ],
   "source": [
    "import torch\n",
    "from torch.utils.data import DataLoader, random_split\n",
    "from TrajectoryDataset import TrajectoryDataset\n",
    "from DLModels import GraphTrajectoryLSTM\n",
    "from Trainer import Trainer\n",
    "from visualizer import visualize_predictions\n",
    "import pickle\n",
    "import os\n",
    "\n",
    "def load_sequences(folder_path):\n",
    "    all_sequences = []\n",
    "    for filename in os.listdir(folder_path):\n",
    "        if filename.endswith('.pkl'):\n",
    "            file_path = os.path.join(folder_path, filename)\n",
    "            with open(file_path, 'rb') as f:\n",
    "                sequences = pickle.load(f)\n",
    "                all_sequences.extend(sequences)\n",
    "    print(f\"Loaded {len(all_sequences)} sequences\")\n",
    "    return all_sequences\n",
    "\n",
    "def train():\n",
    "    # Hyperparameters\n",
    "    input_sizes = {\n",
    "        'node_features': 4,\n",
    "        'position': 2,\n",
    "        'velocity': 2,\n",
    "        'steering': 1,\n",
    "        'object_in_path': 1,\n",
    "        'traffic_light_detected': 1\n",
    "    }\n",
    "    hidden_size = 128\n",
    "    num_layers = 2\n",
    "    input_seq_len = 3  # past trajectory length\n",
    "    output_seq_len = 3  # future prediction length\n",
    "    batch_size = 128\n",
    "    num_epochs = 10\n",
    "    learning_rate = 0.001\n",
    "    \n",
    "    # Data loading\n",
    "    data_folder = \"Dataset/Sequence_Dataset\"\n",
    "    dataset = TrajectoryDataset(data_folder)\n",
    "    \n",
    "    # Split the dataset\n",
    "    train_size = int(0.8 * len(dataset))\n",
    "    test_size = len(dataset) - train_size\n",
    "    train_dataset, test_dataset = random_split(dataset, [train_size, test_size])\n",
    "    \n",
    "    print(f\"Train set size: {len(train_dataset)}\")\n",
    "    print(f\"Test set size: {len(test_dataset)}\")\n",
    "    \n",
    "    train_loader = DataLoader(train_dataset, batch_size=batch_size, shuffle=True, collate_fn=collate_fn)\n",
    "    test_loader = DataLoader(test_dataset, batch_size=batch_size, collate_fn=collate_fn)\n",
    "    \n",
    "    # Model initialization\n",
    "    model = GraphTrajectoryLSTM(input_sizes, hidden_size, num_layers, input_seq_len, output_seq_len)\n",
    "    \n",
    "    # Training\n",
    "    device = torch.device(\"cuda\" if torch.cuda.is_available() else \"cpu\")\n",
    "    trainer = Trainer(model, train_loader, test_loader, learning_rate, device)\n",
    "    trained_model = trainer.train(num_epochs)\n",
    "    \n",
    "    # Save the trained model\n",
    "    torch.save(trained_model.state_dict(), \"graph_trajectory_model_gaussian.pth\")\n",
    "    \n",
    "    # Evaluate on test set\n",
    "    test_loss = trainer.validate()\n",
    "    #print(f\"Test Loss: {test_loss:.4f}\")\n",
    "\n",
    "    # Visualization\n",
    "    all_sequences = load_sequences(data_folder)\n",
    "    visualize_predictions(trained_model, dataset, device, all_sequences)\n",
    "\n",
    "def collate_fn(batch):\n",
    "    past_batch = {k: torch.stack([item[0][k] for item in batch]) for k in batch[0][0].keys()}\n",
    "    future_batch = {k: torch.stack([item[1][k] for item in batch]) for k in batch[0][1].keys()}\n",
    "    graph_batch = {\n",
    "        'node_features': torch.stack([item[2]['node_features'] for item in batch]),\n",
    "        'adj_matrix': torch.stack([item[2]['adj_matrix'] for item in batch])\n",
    "    }\n",
    "    return past_batch, future_batch, graph_batch\n",
    "\n",
    "train()"
   ]
  }
 ],
 "metadata": {
  "kernelspec": {
   "display_name": "Python 3 (ipykernel)",
   "language": "python",
   "name": "python3"
  },
  "language_info": {
   "codemirror_mode": {
    "name": "ipython",
    "version": 3
   },
   "file_extension": ".py",
   "mimetype": "text/x-python",
   "name": "python",
   "nbconvert_exporter": "python",
   "pygments_lexer": "ipython3",
   "version": "3.12.4"
  }
 },
 "nbformat": 4,
 "nbformat_minor": 5
}
