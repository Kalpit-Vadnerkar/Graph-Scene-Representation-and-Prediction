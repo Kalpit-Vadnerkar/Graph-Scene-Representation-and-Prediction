{
 "cells": [
  {
   "cell_type": "code",
   "execution_count": 1,
   "id": "22fa957c-581f-4438-b7ab-710a26525c04",
   "metadata": {},
   "outputs": [
    {
     "name": "stderr",
     "output_type": "stream",
     "text": [
      "/home/da0698@unt.ad.unt.edu/anaconda3/envs/dlgpu/lib/python3.12/site-packages/tqdm/auto.py:21: TqdmWarning: IProgress not found. Please update jupyter and ipywidgets. See https://ipywidgets.readthedocs.io/en/stable/user_install.html\n",
      "  from .autonotebook import tqdm as notebook_tqdm\n"
     ]
    }
   ],
   "source": [
    "import pickle\n",
    "import os\n",
    "\n",
    "import numpy as np\n",
    "from torch_geometric.data import Data, Batch\n",
    "\n",
    "import networkx as nx\n",
    "\n",
    "import torch\n",
    "import torch.nn as nn\n",
    "import torch.nn.functional as F\n",
    "from torch_geometric.nn import GCNConv, global_mean_pool, GATConv\n",
    "from torch.nn.utils.rnn import pad_sequence\n",
    "\n",
    "import torch.optim as optim\n",
    "\n",
    "import matplotlib.pyplot as plt\n",
    "import matplotlib.cm as cm"
   ]
  },
  {
   "cell_type": "code",
   "execution_count": 2,
   "id": "fcd8146a-4250-45eb-9d15-552fa2ae3287",
   "metadata": {},
   "outputs": [],
   "source": [
    "from math import sqrt"
   ]
  },
  {
   "cell_type": "code",
   "execution_count": 82,
   "id": "7b3da723-ce29-4377-87ff-fba2eae2fbf7",
   "metadata": {},
   "outputs": [],
   "source": [
    "import matplotlib.pyplot as plt\n",
    "\n",
    "import networkx as nx\n",
    "\n",
    "def plot_graph_and_data(G, filename):\n",
    "    pos = {node: (data['x'], data['y']) for node, data in G.nodes(data=True)}\n",
    "    Dyna_pos = {node: [(data['dynamic_object_position_X'][i], data['dynamic_object_position_Y'][i])\n",
    "                       for i in range(len(data['dynamic_object_position_X']))\n",
    "                       if data['dynamic_object_exist_probability'][i] == 1] for node, data in G.nodes(data=True)}\n",
    "\n",
    "    node_types = {'map_node': [], 'dynamic_object_node': [], 'traffic_light_node': []}\n",
    "    node_colors = {}\n",
    "    cmap = cm.get_cmap('YlOrRd')\n",
    "\n",
    "    for node, data in G.nodes(data=True):\n",
    "        if data['type'] == 'map_node':\n",
    "            node_types['map_node'].append(node)\n",
    "        if 1 in data['dynamic_object_exist_probability']:\n",
    "            node_types['dynamic_object_node'].append(node)\n",
    "            node_colors[node] = cmap(max(data['dynamic_object_exist_probability']))\n",
    "        if 1 in data['traffic_light_detected']:\n",
    "            node_types['traffic_light_node'].append(node)\n",
    "\n",
    "    fig, ax = plt.subplots(figsize=(12, 8))\n",
    "\n",
    "    nx.draw_networkx_nodes(G, pos, nodelist=node_types['map_node'], node_color='black', node_size=2, label='Map Nodes')\n",
    "    nx.draw_networkx_nodes(G, pos, nodelist=node_types['dynamic_object_node'], node_color=[node_colors[node] for node in node_types['dynamic_object_node']], node_size=5, label='Dynamic Object Nodes')\n",
    "    nx.draw_networkx_nodes(G, pos, nodelist=node_types['traffic_light_node'], node_color='green', node_size=5, label='Traffic Light Nodes')\n",
    "\n",
    "    for i, node in enumerate(node_types['dynamic_object_node']):\n",
    "        x_values = [pos[node][0]] + [p[0] for p in Dyna_pos[node]]\n",
    "        y_values = [pos[node][1]] + [p[1] for p in Dyna_pos[node]]\n",
    "        # Calculate alpha based on i, ensuring it's between 0 and 1\n",
    "        alpha = max(0, 1 - (i / len(node_types['dynamic_object_node'])))\n",
    "        ax.scatter(x_values, y_values, color='blue', alpha=alpha, s=3)\n",
    "\n",
    "    edges = [(u, v) for u, v in G.edges() if u != v]\n",
    "    nx.draw_networkx_edges(G, pos, edgelist=edges, edge_color='gray')\n",
    "\n",
    "    x_values = [data['x'] for node, data in G.nodes(data=True)]\n",
    "    y_values = [data['y'] for node, data in G.nodes(data=True)]\n",
    "    plot_padding = 0\n",
    "    plt.xlim(min(x_values) - plot_padding, max(x_values) + plot_padding)\n",
    "    plt.ylim(min(y_values) - plot_padding, max(y_values) + plot_padding)\n",
    "\n",
    "    plt.legend(loc='upper right')\n",
    "    plt.savefig(filename)\n",
    "    plt.clf()\n",
    "    plt.close()\n",
    "\n"
   ]
  },
  {
   "cell_type": "code",
   "execution_count": 83,
   "id": "b6351bf0-87a0-4581-af6c-dfc7f6360484",
   "metadata": {},
   "outputs": [],
   "source": [
    "def establish_node_correspondence(sequence):\n",
    "    correspondence = {}\n",
    "    complete_graph = nx.Graph()\n",
    "\n",
    "    max_length = len(sequence)\n",
    "\n",
    "    for i, graph in enumerate(sequence):\n",
    "        for node, data in graph.nodes(data=True):\n",
    "            position = (data['x'], data['y'])\n",
    "            if position not in correspondence:\n",
    "                correspondence[position] = len(correspondence)\n",
    "                complete_graph.add_node(correspondence[position], \n",
    "                                        x=data['x'], y=data['y'], \n",
    "                                        nearest_traffic_light_detection_probability=data['nearest_traffic_light_detection_probability'], \n",
    "                                        traffic_light_detected=[0] * max_length, \n",
    "                                        **{k: [0] * max_length for k in data.keys() if k not in ['x', 'y', 'nearest_traffic_light_detection_probability']})\n",
    "            else:\n",
    "                complete_graph.nodes[correspondence[position]]['nearest_traffic_light_detection_probability'] = data['nearest_traffic_light_detection_probability']\n",
    "                complete_graph.nodes[correspondence[position]]['traffic_light_detected'][i] = int(data['nearest_traffic_light_detection_probability'] and data['dynamic_object_exist_probability'])\n",
    "            for k, v in data.items():\n",
    "                if k not in ['x', 'y', 'nearest_traffic_light_detection_probability']:\n",
    "                    complete_graph.nodes[correspondence[position]][k][i] = v\n",
    "\n",
    "    for graph in sequence:\n",
    "        for u, v, data in graph.edges(data=True):\n",
    "            u_position = (graph.nodes[u]['x'], graph.nodes[u]['y'])\n",
    "            v_position = (graph.nodes[v]['x'], graph.nodes[v]['y'])\n",
    "            u_complete = correspondence[u_position]\n",
    "            v_complete = correspondence[v_position]\n",
    "            if not complete_graph.has_edge(u_complete, v_complete):\n",
    "                complete_graph.add_edge(u_complete, v_complete, **data)\n",
    "\n",
    "    return correspondence, complete_graph\n"
   ]
  },
  {
   "cell_type": "code",
   "execution_count": 84,
   "id": "f9bac7da-47f9-4e1b-bdaa-d5e6db681c73",
   "metadata": {},
   "outputs": [],
   "source": [
    "def process_sequence_for_gnn(sequence):\n",
    "    # 1. Node Correspondence \n",
    "    correspondence, complete_graph = establish_node_correspondence(sequence)\n",
    "    #complete_graph = connect_graphs(complete_graph)\n",
    "    plot_graph_and_data(complete_graph, 'graph.png')\n",
    "\n",
    "    # 2. Temporal Features\n",
    "    #temporal_graph = create_temporal_graph(window, correspondence) \n",
    "\n",
    "    # 3. Feature Engineering\n",
    "    #enhanced_graph = add_engineered_features(temporal_graph) \n",
    "\n",
    "    #processed_data.append(enhanced_graph) \n",
    "\n",
    "    #return processed_data\n",
    "    return 0\n",
    "\n",
    "\n",
    "def load_data(input_folder, batch_size=32):\n",
    "    all_sequences = []\n",
    "\n",
    "    for file_name in os.listdir(input_folder):\n",
    "        file_path = os.path.join(input_folder, file_name)\n",
    "        #print(f\"Processing file: {file_name}\")\n",
    "        with open(file_path, 'rb') as f:\n",
    "            sequences = pickle.load(f)\n",
    "            # Check if the sequences list is not empty\n",
    "            if sequences:\n",
    "                all_sequences.extend(sequences)\n",
    "    # Shuffle the sequences\n",
    "    np.random.shuffle(all_sequences)\n",
    "\n",
    "    def batch_generator():\n",
    "        for i in range(0, len(all_sequences), batch_size):\n",
    "            batch = all_sequences[i:i+batch_size]\n",
    "            \n",
    "            # Process the graphs in the batch\n",
    "            processed_batch = []\n",
    "            for sequence in batch:\n",
    "                processed_sequence = process_sequence_for_gnn(sequence)          \n",
    "                processed_batch.append(processed_sequence)\n",
    "                \n",
    "\n",
    "            yield processed_batch\n",
    "\n",
    "    return batch_generator()"
   ]
  },
  {
   "cell_type": "code",
   "execution_count": 86,
   "id": "f85e840f-aae0-4bb0-a553-185a2572fa71",
   "metadata": {},
   "outputs": [
    {
     "name": "stderr",
     "output_type": "stream",
     "text": [
      "/tmp/ipykernel_1357634/1014685515.py:47: MatplotlibDeprecationWarning: The get_cmap function was deprecated in Matplotlib 3.7 and will be removed two minor releases later. Use ``matplotlib.colormaps[name]`` or ``matplotlib.colormaps.get_cmap(obj)`` instead.\n",
      "  cmap = cm.get_cmap('YlOrRd')\n"
     ]
    },
    {
     "name": "stdout",
     "output_type": "stream",
     "text": [
      "32\n"
     ]
    }
   ],
   "source": [
    "train_input_folder = \"Training Dataset1/Sequence_Dataset\"\n",
    "batch_generator = load_data(train_input_folder)\n",
    "for batch in batch_generator:\n",
    "    print(len(batch))\n",
    "    break"
   ]
  },
  {
   "cell_type": "code",
   "execution_count": null,
   "id": "d6ded635-4eb8-4225-bbfb-92b3652004c4",
   "metadata": {},
   "outputs": [],
   "source": []
  }
 ],
 "metadata": {
  "kernelspec": {
   "display_name": "Python 3 (ipykernel)",
   "language": "python",
   "name": "python3"
  },
  "language_info": {
   "codemirror_mode": {
    "name": "ipython",
    "version": 3
   },
   "file_extension": ".py",
   "mimetype": "text/x-python",
   "name": "python",
   "nbconvert_exporter": "python",
   "pygments_lexer": "ipython3",
   "version": "3.12.3"
  }
 },
 "nbformat": 4,
 "nbformat_minor": 5
}
